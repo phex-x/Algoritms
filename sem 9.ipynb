{
 "cells": [
  {
   "cell_type": "code",
   "execution_count": 19,
   "outputs": [],
   "source": [
    "l1 = ['1', '123', '123', '12', '1', '123']\n",
    "l2 = [2, 4, -2, -3, 0 , 11 , 3 -1]\n",
    "\n",
    "d4 = {1: 10, 2: 20, 3: 30, 4: 40, 5: 50, 6: 60}\n",
    "d5 = {'a': 3, 'b': 4, 'c': 5, 'd': 6, 'e': 7, 'f': 8, 'g': 9}\n",
    "d6 = {'e': 20, 'f': 21, 'g': 22, 'h': 23, 'i': 24, 'j': 25, 'k': 26, 'l': 27}"
   ],
   "metadata": {
    "collapsed": false,
    "pycharm": {
     "name": "#%%\n"
    }
   }
  },
  {
   "cell_type": "markdown",
   "source": [
    "4.13) Используюя список l1 создать список, в ктором каждый элемент списка l1 будет заменен значением длинны строки соответствующего элемента в списке l1. Использовать генераторы, решить задачу в одну строку."
   ],
   "metadata": {
    "collapsed": false,
    "pycharm": {
     "name": "#%% md\n"
    }
   }
  },
  {
   "cell_type": "code",
   "execution_count": 20,
   "outputs": [
    {
     "name": "stdout",
     "output_type": "stream",
     "text": [
      "[1, 3, 3, 2, 1, 3]\n"
     ]
    }
   ],
   "source": [
    "print([len(el) for el in l1])"
   ],
   "metadata": {
    "collapsed": false,
    "pycharm": {
     "name": "#%%\n"
    }
   }
  },
  {
   "cell_type": "markdown",
   "source": [
    "4.14) Подсчитать количество строк в списке l1, длина которых больше 2х. Использовать генераторы, решить задачу в одну строку."
   ],
   "metadata": {
    "collapsed": false,
    "pycharm": {
     "name": "#%% md\n"
    }
   }
  },
  {
   "cell_type": "code",
   "execution_count": 21,
   "outputs": [
    {
     "name": "stdout",
     "output_type": "stream",
     "text": [
      "3\n"
     ]
    }
   ],
   "source": [
    "print(len([el for el in l1 if len(el)>2]))"
   ],
   "metadata": {
    "collapsed": false,
    "pycharm": {
     "name": "#%%\n"
    }
   }
  },
  {
   "cell_type": "markdown",
   "source": [
    "4.15) Просуммировать произведение ключей на значения словаря d4."
   ],
   "metadata": {
    "collapsed": false,
    "pycharm": {
     "name": "#%% md\n"
    }
   }
  },
  {
   "cell_type": "code",
   "execution_count": 22,
   "outputs": [
    {
     "ename": "TypeError",
     "evalue": "unsupported operand type(s) for *: 'dict_keys' and 'dict_values'",
     "output_type": "error",
     "traceback": [
      "\u001B[1;31m---------------------------------------------------------------------------\u001B[0m",
      "\u001B[1;31mTypeError\u001B[0m                                 Traceback (most recent call last)",
      "Cell \u001B[1;32mIn[22], line 1\u001B[0m\n\u001B[1;32m----> 1\u001B[0m \u001B[38;5;28mprint\u001B[39m(\u001B[38;5;28msum\u001B[39m(\u001B[43md4\u001B[49m\u001B[38;5;241;43m.\u001B[39;49m\u001B[43mkeys\u001B[49m\u001B[43m(\u001B[49m\u001B[43m)\u001B[49m\u001B[38;5;241;43m*\u001B[39;49m\u001B[43md4\u001B[49m\u001B[38;5;241;43m.\u001B[39;49m\u001B[43mvalues\u001B[49m\u001B[43m(\u001B[49m\u001B[43m)\u001B[49m))\n",
      "\u001B[1;31mTypeError\u001B[0m: unsupported operand type(s) for *: 'dict_keys' and 'dict_values'"
     ]
    }
   ],
   "source": [
    "print(sum(d4.keys()*d4.values()))"
   ],
   "metadata": {
    "collapsed": false,
    "pycharm": {
     "name": "#%%\n"
    }
   }
  },
  {
   "cell_type": "markdown",
   "source": [
    "4.16) На базе словаря d6 составить словарь d7 в котором нет пар ключ-значение с ключами, встречающимися в словаре d5. Использовать генераторы, решить задачу в одну строку."
   ],
   "metadata": {
    "collapsed": false,
    "pycharm": {
     "name": "#%% md\n"
    }
   }
  },
  {
   "cell_type": "code",
   "execution_count": 23,
   "outputs": [
    {
     "name": "stdout",
     "output_type": "stream",
     "text": [
      "{'e': 20, 'f': 21, 'g': 22, 'h': 23, 'i': 24, 'j': 25, 'k': 26, 'l': 27}\n"
     ]
    }
   ],
   "source": [
    "print(dict(value for value in d6.items() if value not in d5.items()))"
   ],
   "metadata": {
    "collapsed": false,
    "pycharm": {
     "name": "#%%\n"
    }
   }
  },
  {
   "cell_type": "markdown",
   "source": [
    "Создать список, в котором все числа списка l2 умножены на их номер в списке, остальные элементы сохранены на своих местах. Использовать генераторы, решить задачу в одну строку."
   ],
   "metadata": {
    "collapsed": false,
    "pycharm": {
     "name": "#%% md\n"
    }
   }
  },
  {
   "cell_type": "code",
   "execution_count": 24,
   "outputs": [
    {
     "name": "stdout",
     "output_type": "stream",
     "text": [
      "[0, 4, -4, -9, 0, 55, 12]\n"
     ]
    }
   ],
   "source": [
    "print([l2[i]*i for i in range(len(l2))])"
   ],
   "metadata": {
    "collapsed": false,
    "pycharm": {
     "name": "#%%\n"
    }
   }
  },
  {
   "cell_type": "markdown",
   "source": [
    "4.18) Создать список, в котором все отрицательные числа списка l2 исключены, остальные элементы сохранены на своих местах. Использовать генераторы, решить задачу в одну строку."
   ],
   "metadata": {
    "collapsed": false,
    "pycharm": {
     "name": "#%% md\n"
    }
   }
  },
  {
   "cell_type": "code",
   "execution_count": 25,
   "outputs": [
    {
     "name": "stdout",
     "output_type": "stream",
     "text": [
      "[2, 4, 0, 11, 2]\n"
     ]
    }
   ],
   "source": [
    "print([el for el in l2 if el >=0])"
   ],
   "metadata": {
    "collapsed": false,
    "pycharm": {
     "name": "#%%\n"
    }
   }
  },
  {
   "cell_type": "markdown",
   "source": [
    "4.19) Создать список, в котором все отрицательные числа списка l2 заменены на их номер в списке, остальные элементы сохранены на своих местах. Использовать генераторы и тернарный оператор, решить задачу в одну строку."
   ],
   "metadata": {
    "collapsed": false,
    "pycharm": {
     "name": "#%% md\n"
    }
   }
  },
  {
   "cell_type": "code",
   "execution_count": 26,
   "outputs": [
    {
     "name": "stdout",
     "output_type": "stream",
     "text": [
      "[2, 4, 2, 3, 0, 11, 2]\n"
     ]
    }
   ],
   "source": [
    "print([el if el >=0 else l2.index(el) for el in l2])"
   ],
   "metadata": {
    "collapsed": false,
    "pycharm": {
     "name": "#%%\n"
    }
   }
  },
  {
   "cell_type": "markdown",
   "source": [
    "5.1) Написать задокументированную функцию умножения двух чисел. Для каких типов данная функция будет возвращать практически ценный результат? Написать примеры использования этой функции"
   ],
   "metadata": {
    "collapsed": false,
    "pycharm": {
     "name": "#%% md\n"
    }
   }
  },
  {
   "cell_type": "code",
   "execution_count": 27,
   "outputs": [
    {
     "name": "stdout",
     "output_type": "stream",
     "text": [
      "112\n",
      "435\n",
      "1566093.60386465\n"
     ]
    }
   ],
   "source": [
    "def mul_nums(a, b):\n",
    "    return a*b\n",
    "# для decimal\n",
    "print(mul_nums(2, 56))\n",
    "print(mul_nums(5, 87))\n",
    "print(mul_nums(23.7685, 65889.4589))"
   ],
   "metadata": {
    "collapsed": false,
    "pycharm": {
     "name": "#%%\n"
    }
   }
  },
  {
   "cell_type": "markdown",
   "source": [
    "5.2) Написать функцию умножения принимающую от одного до трех параметров. Написать примеры использования этой функции с разным количеством параметров"
   ],
   "metadata": {
    "collapsed": false,
    "pycharm": {
     "name": "#%% md\n"
    }
   }
  },
  {
   "cell_type": "code",
   "execution_count": 28,
   "outputs": [
    {
     "name": "stdout",
     "output_type": "stream",
     "text": [
      "6\n",
      "120\n",
      "504\n"
     ]
    }
   ],
   "source": [
    "def mul_nums(a=1, b=1, c=1):\n",
    "    return a*b*c\n",
    "\n",
    "print(mul_nums(1, 2, 3))\n",
    "print(mul_nums(4, 5, 6))\n",
    "print(mul_nums(7, 8, 9))"
   ],
   "metadata": {
    "collapsed": false,
    "pycharm": {
     "name": "#%%\n"
    }
   }
  },
  {
   "cell_type": "markdown",
   "source": [
    "5.3) Функцию из задания 2 вызвать с приведенными ниже аргументами. Для случая a4 выбрать 3 первых и 3 последних значения."
   ],
   "metadata": {
    "collapsed": false,
    "pycharm": {
     "name": "#%% md\n"
    }
   }
  },
  {
   "cell_type": "code",
   "execution_count": 29,
   "outputs": [],
   "source": [
    "a1 = (15, 10 ,5)\n",
    "a2 = (3, 1)\n",
    "a3 = [2, 35, 55]\n",
    "a4 = (5, 10 ,15, 20)\n"
   ],
   "metadata": {
    "collapsed": false,
    "pycharm": {
     "name": "#%%\n"
    }
   }
  },
  {
   "cell_type": "code",
   "execution_count": 30,
   "outputs": [
    {
     "name": "stdout",
     "output_type": "stream",
     "text": [
      "750\n",
      "3\n",
      "3850\n",
      "750\n",
      "3000\n"
     ]
    }
   ],
   "source": [
    "print(mul_nums(*a1))\n",
    "print(mul_nums(*a2))\n",
    "print(mul_nums(*a3))\n",
    "print(mul_nums(*a4[:3]))\n",
    "print(mul_nums(*a4[1:]))"
   ],
   "metadata": {
    "collapsed": false,
    "pycharm": {
     "name": "#%%\n"
    }
   }
  },
  {
   "cell_type": "markdown",
   "source": [
    "5.4) Реализовать функцию умножения, принимающую неограниченное количество значений. Написать примеры использования этой функции, в том числе с аргументами из задания 3."
   ],
   "metadata": {
    "collapsed": false,
    "pycharm": {
     "name": "#%% md\n"
    }
   }
  },
  {
   "cell_type": "code",
   "execution_count": 31,
   "outputs": [
    {
     "name": "stdout",
     "output_type": "stream",
     "text": [
      "750\n",
      "3\n",
      "3850\n",
      "15000\n"
     ]
    }
   ],
   "source": [
    "def num_mul(*args):\n",
    "    res = 1\n",
    "    for el in args:\n",
    "        res = res*el\n",
    "    return res\n",
    "\n",
    "print(num_mul(*a1))\n",
    "print(num_mul(*a2))\n",
    "print(num_mul(*a3))\n",
    "print(num_mul(*a4))"
   ],
   "metadata": {
    "collapsed": false,
    "pycharm": {
     "name": "#%%\n"
    }
   }
  },
  {
   "cell_type": "markdown",
   "source": [
    "5.5) Реализовать функции для выполнения четырех арифмитических операций преобразующих целые числа в целое число. Для двух заранее заданных целых чисел выполнить выбранную пользователем арифметическую операцию."
   ],
   "metadata": {
    "collapsed": false,
    "pycharm": {
     "name": "#%% md\n"
    }
   }
  },
  {
   "cell_type": "code",
   "execution_count": 32,
   "outputs": [],
   "source": [
    "def num_sum(a, b):\n",
    "    return sum(a, b)\n",
    "\n",
    "def num_min(a, b):\n",
    "    return a-b\n",
    "\n",
    "def num_mul(a, b):\n",
    "    return a*b\n",
    "\n",
    "def num_sub(a, b):\n",
    "    return a/b\n",
    "\n"
   ],
   "metadata": {
    "collapsed": false,
    "pycharm": {
     "name": "#%%\n"
    }
   }
  },
  {
   "cell_type": "markdown",
   "source": [
    "5.6) Написать калькулятор для строковых выражений вида '<число> <операция> <число>', где <число> - целое число, например 113, <арифмитическая операция> - одна из операций +,-,*,/(деление нацело),%(остаток от деления),^(возведение в степень). Пример calc('13 - 5') -> 8"
   ],
   "metadata": {
    "collapsed": false,
    "pycharm": {
     "name": "#%% md\n"
    }
   }
  },
  {
   "cell_type": "code",
   "execution_count": 33,
   "outputs": [
    {
     "name": "stdout",
     "output_type": "stream",
     "text": [
      "18.0\n",
      "8.0\n",
      "65.0\n",
      "2.6\n",
      "3.0\n",
      "371293.0\n"
     ]
    }
   ],
   "source": [
    "def calc(s):\n",
    "    s = s.split()\n",
    "    if s[1] == '+':\n",
    "        return float(s[0]) + float(s[2])\n",
    "    elif s[1] == '-':\n",
    "        return float(s[0]) - float(s[2])\n",
    "    elif s[1] == '*':\n",
    "        return float(s[0]) * float(s[2])\n",
    "    elif s[1] == '/':\n",
    "        return float(s[0]) / float(s[2])\n",
    "    elif s[1] == '%':\n",
    "        return float(s[0]) % float(s[2])\n",
    "    elif s[1] == '^':\n",
    "        return float(s[0]) ** float(s[2])\n",
    "\n",
    "print(calc('13 + 5'))\n",
    "print(calc('13 - 5'))\n",
    "print(calc('13 * 5'))\n",
    "print(calc('13 / 5'))\n",
    "print(calc('13 % 5'))\n",
    "print(calc('13 ^ 5'))"
   ],
   "metadata": {
    "collapsed": false,
    "pycharm": {
     "name": "#%%\n"
    }
   }
  },
  {
   "cell_type": "code",
   "execution_count": 38,
   "outputs": [
    {
     "name": "stdout",
     "output_type": "stream",
     "text": [
      "1\n"
     ]
    }
   ],
   "source": [
    "s = str(input())\n",
    "s = s.replace('^', '**')\n",
    "print(eval(s))"
   ],
   "metadata": {
    "collapsed": false,
    "pycharm": {
     "name": "#%%\n"
    }
   }
  },
  {
   "cell_type": "code",
   "execution_count": null,
   "outputs": [],
   "source": [
    "from functools import singledispatchmethod\n",
    "\n",
    "\n",
    "class Processor:\n",
    "    @singledispatchmethod\n",
    "    @staticmethod\n",
    "    def process(self):\n",
    "        raise TypeError('Аргумент переданного типа не поддерживается')\n",
    "\n",
    "    @process.register\n",
    "    @staticmethod\n",
    "    def int_implementation(arg: int):\n",
    "        return arg * 2\n",
    "\n",
    "    @process.register\n",
    "    @staticmethod\n",
    "    def float_implementation(arg: float):\n",
    "        return arg * 2\n",
    "\n",
    "    @process.register\n",
    "    @staticmethod\n",
    "    def str_implementation(arg: str):\n",
    "        return arg.upper()\n",
    "\n",
    "    @process.register\n",
    "    @staticmethod\n",
    "    def list_implementation(arg: list):\n",
    "        return sorted(arg)\n",
    "\n",
    "    @process.register\n",
    "    @staticmethod\n",
    "    def tuple_implementation(arg: tuple):\n",
    "        return sorted(arg)\n"
   ],
   "metadata": {
    "collapsed": false,
    "pycharm": {
     "name": "#%%\n"
    }
   }
  },
  {
   "cell_type": "markdown",
   "source": [
    "5.7) Реализовать функцию которая выводит на экран сообщение вида:\n",
    "'Автомобиль марки: BMW, модели: X5, цвета: белый, 2006 года выпуска, с пробегом: 215 000 км, c номерным знаком: X012АМ77, цена: 1 115 000 руб.'\n",
    "В функцию передаются именованные параметры изменяемой части сообщения, лубой из параметров может быть не задан пользователем функции и автоматически заменен на разумное сообщение в соответствующей части строки. Получить вывод текстового сообщения для словарей c1, c2."
   ],
   "metadata": {
    "collapsed": false,
    "pycharm": {
     "name": "#%% md\n"
    }
   }
  },
  {
   "cell_type": "code",
   "execution_count": 61,
   "outputs": [
    {
     "name": "stdout",
     "output_type": "stream",
     "text": [
      "Автомобиль марки: BMW, модели: X5, цвета: белый, 2006 года выпуска, с пробегом: 215 000 км, c номерным знаком: X012AM77, цена: 1 115 000 руб.\n"
     ]
    }
   ],
   "source": [
    "def info(brand, model, color, year, mileage, plate_number, price):\n",
    "    return f\"Автомобиль марки: {brand}, модели: {model}, цвета: {color}, {year} года выпуска, с пробегом: {mileage} км, c номерным знаком: {plate_number}, цена: {price} руб.\"\n",
    "\n",
    "print(info('BMW', 'X5', 'белый', 2006, '215 000', 'X012AM77', '1 115 000'))"
   ],
   "metadata": {
    "collapsed": false,
    "pycharm": {
     "name": "#%%\n"
    }
   }
  },
  {
   "cell_type": "markdown",
   "source": [
    "5.8) Написать функцию, которая преобразует целое число (от 0 до 99) в текстовое написание числа на русском языке. Пример: to_text(15) -> 'Пятнадцать'\n"
   ],
   "metadata": {
    "collapsed": false,
    "pycharm": {
     "name": "#%% md\n"
    }
   }
  },
  {
   "cell_type": "code",
   "execution_count": 68,
   "outputs": [
    {
     "name": "stdout",
     "output_type": "stream",
     "text": [
      "пятнадцать\n",
      "двадцать\n",
      "шестьдесят семь\n",
      "сорок пять\n"
     ]
    }
   ],
   "source": [
    "num_dict = {'1': 'один', '2': 'два', '3': 'три', '4': 'четыре', '5': 'пять', '6': 'шесть', '7': 'семь', '8': 'восемь', '9': 'девять', '10': 'десять', '11': 'одиннадцать', '12': 'двенадцать', '13': 'тринадцать', '14': 'четырнадцать', '15': 'пятнадцать', '16': 'шестнадцать', '17': 'семнадцать', '18': 'восемнадцать', '19': 'девятнадцать', '20': 'двадцать', '30': 'тридцать', '40': 'сорок', '50': 'пятьдесят', '60': 'шестьдесят', '70': 'семьдесят', '80': 'восемьдесят', '90': 'девяносто'}\n",
    "\n",
    "def num_to_text(num):\n",
    "    num = str(num)\n",
    "    try:\n",
    "        return num_dict[num]\n",
    "    except KeyError:\n",
    "        num1 = str(int(num) - int(num)%10)\n",
    "        num2 = str(int(num)%10)\n",
    "        return num_dict[num1] +' ' + num_dict[num2]\n",
    "\n",
    "print(num_to_text(15))\n",
    "print(num_to_text(20))\n",
    "print(num_to_text(67))\n",
    "print(num_to_text(45))"
   ],
   "metadata": {
    "collapsed": false,
    "pycharm": {
     "name": "#%%\n"
    }
   }
  },
  {
   "cell_type": "markdown",
   "source": [
    "5.9) Написать функцию, которая преобразует целое число (от 0 до 999) из текстового представления на руссокм языке в число типа int. Пример: to_int('тридцать три') -> 33"
   ],
   "metadata": {
    "collapsed": false,
    "pycharm": {
     "name": "#%% md\n"
    }
   }
  },
  {
   "cell_type": "code",
   "execution_count": 76,
   "outputs": [
    {
     "name": "stdout",
     "output_type": "stream",
     "text": [
      "33\n",
      "7\n",
      "525\n",
      "68\n",
      "125\n"
     ]
    }
   ],
   "source": [
    "nums_dict = {'один': '1', 'два': '2', 'три': '3', 'четыре': '4', 'пять': '5', 'шесть': '6', 'семь': '7', 'восемь': '8','девять': '9','десять': '10','одиннадцать': '11','двенадцать': '12','тринадцать': '13', 'четырнадцать': '14', 'пятнадцать': '15','шестнадцать': '16','семнадцать': '17','восемнадцать': '18','девятнадцать': '19','двадцать': '20','тридцать': '30','сорок': '40','пятьдесят': '50','шестьдесят': '60','семьдесят': '70','восемьдесят': '80','девяносто': '90', 'сто': '100', 'двести': '200', 'триста': '300', 'четыреста': '400', 'пятьсот': '500', 'шестьсот': '600', 'семьсот': '700', 'восемьсот': '800', 'девятьсот':'900'}\n",
    "\n",
    "def text_to_num(st_num):\n",
    "    st_num = st_num.split()\n",
    "    res = 0\n",
    "    for el in st_num:\n",
    "        res += int(nums_dict[el])\n",
    "    return res\n",
    "\n",
    "print(text_to_num('тридцать три'))\n",
    "print(text_to_num('семь'))\n",
    "print(text_to_num('пятьсот двадцать пять'))\n",
    "print(text_to_num('шестьдесят восемь'))\n",
    "print(text_to_num('сто двадцать пять'))"
   ],
   "metadata": {
    "collapsed": false,
    "pycharm": {
     "name": "#%%\n"
    }
   }
  },
  {
   "cell_type": "markdown",
   "source": [
    "6.1) Написать калькулятор для строковых выражений вида '<число> <операция> <число>', где <число> - не отрицательное целое число меньшее 100, записанное словами, например \"тридцать четыре\", <арифмитическая операция> - одна из операций \"плюс\",\"минус\",\"умножить\". Результат выполнения операции вернуть в виде текстового представления числа. Пример calc('двадцать пять плюс тринадцать') -> \"тридцать восемь\""
   ],
   "metadata": {
    "collapsed": false,
    "pycharm": {
     "name": "#%% md\n"
    }
   }
  },
  {
   "cell_type": "code",
   "execution_count": 80,
   "outputs": [
    {
     "name": "stdout",
     "output_type": "stream",
     "text": [
      "None\n"
     ]
    }
   ],
   "source": [
    "def convert(num):\n",
    "    res = 0\n",
    "    for el in num:\n",
    "        res += int(nums_dict[el])\n",
    "    return res\n",
    "\n",
    "def str_calc(s):\n",
    "    s = s.split()\n",
    "    for i in range(len(s)):\n",
    "        if s[i] in [\"плюс\", \"минус\", \"умножить\"]:\n",
    "            par = s[i]\n",
    "            s1 = s[:i]\n",
    "            s2 = s[-i+1:]\n",
    "            break\n",
    "    num1 = convert(s1)\n",
    "    num2 = convert(s2)\n",
    "    if par == 'сумма':\n",
    "        return num1 + num2\n",
    "    elif par == 'минус':\n",
    "        return num1 - num2\n",
    "    elif par == 'умножить':\n",
    "        return num1 * num2\n",
    "\n",
    "print(str_calc('двадцать пять плюс тринадцать'))"
   ],
   "metadata": {
    "collapsed": false,
    "pycharm": {
     "name": "#%%\n"
    }
   }
  }
 ],
 "metadata": {
  "kernelspec": {
   "display_name": "Python 3",
   "language": "python",
   "name": "python3"
  },
  "language_info": {
   "codemirror_mode": {
    "name": "ipython",
    "version": 2
   },
   "file_extension": ".py",
   "mimetype": "text/x-python",
   "name": "python",
   "nbconvert_exporter": "python",
   "pygments_lexer": "ipython2",
   "version": "2.7.6"
  }
 },
 "nbformat": 4,
 "nbformat_minor": 0
}