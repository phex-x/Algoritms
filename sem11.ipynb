{
 "cells": [
  {
   "cell_type": "markdown",
   "source": [
    "1) Создать скрипт для анализа тестовых файлов - сбора статистики упоминания слов. Аргументом командной строки является имя файла, который нужно проанализировать. Второй аргумент - количество слов, которые нужно выводить на экран (если аргумент не указан, то выводим статистику по 100 словам, статистика выводится в порядке убывания частоты слов, по каждому слову на экран выводится строка в формате \"<слово> <частота>\"). Если второй аргумент не целое число, то его рассматриваем как имя файла, в который в формате CSV с заголовком сохраняем статистику слов (Первый столбец - слово, второй столбце - частота)."
   ],
   "metadata": {
    "collapsed": false,
    "pycharm": {
     "name": "#%% md\n"
    }
   }
  },
  {
   "cell_type": "code",
   "execution_count": null,
   "outputs": [],
   "source": [
    "import sys\n",
    "import collections\n",
    "\n",
    "\n",
    "def analyze_file(filename, n_words=100, output_file=None):      #Анализирует тестовый файл, собирая статистику упоминания слов.\n",
    "  with open(filename, 'r') as f:\n",
    "    text = f.read().lower()\n",
    "  words = text.split()\n",
    "\n",
    "  # Подсчет частоты слов\n",
    "  word_counts = collections.Counter(words)\n",
    "\n",
    "  # Вывод статистики на экран\n",
    "  if not output_file:\n",
    "    print(f\"Статистика по {n_words} самым частотным словам в файле {filename}:\")\n",
    "    for word, count in word_counts.most_common(n_words):\n",
    "      print(f\"{word} {count}\")\n",
    "\n",
    "  # Сохранение статистики в CSV-файл\n",
    "  else:\n",
    "    with open(output_file, 'w') as f:\n",
    "      f.write(\"Слово,Частота\\n\")\n",
    "      for word, count in word_counts.most_common():\n",
    "        f.write(f\"{word},{count}\\n\")\n",
    "\n",
    "  return word_counts\n",
    "\n",
    "\n",
    "if __name__ == \"__main__\":\n",
    "  if len(sys.argv) < 2:\n",
    "    print(\"Usage: python analyze_test_file.py <filename> [n_words|output_file]\")\n",
    "    sys.exit(1)\n",
    "\n",
    "  filename = sys.argv[1]\n",
    "\n",
    "  # Обработка второго аргумента\n",
    "  if len(sys.argv) == 2:\n",
    "    n_words = 100\n",
    "  elif len(sys.argv) == 3:\n",
    "    try:\n",
    "      n_words = int(sys.argv[2])\n",
    "    except ValueError:\n",
    "      output_file = sys.argv[2]\n",
    "  else:\n",
    "    print(\"Usage: python analyze_test_file.py <filename> [n_words|output_file]\")\n",
    "    sys.exit(1)\n",
    "\n",
    "  # Анализ файла и вывод статистики\n",
    "  analyze_file(filename, n_words, output_file)\n"
   ],
   "metadata": {
    "collapsed": false,
    "pycharm": {
     "name": "#%%\n"
    }
   }
  },
  {
   "cell_type": "markdown",
   "source": [
    "формате CSV с заголовком содержится информация о частоте слов: первый столбец - слово, второй столбце - частота. Выполнить агрегацию информации о частоте слов из всех переданных файлов (т.е. рассчитать суммарную частоту для всех упомянутых слов). Результат сохранить в файл с именем, которое введет пользователь в ответ на соответствующий запрос.\n",
    "2.1) Скрипт должен адекватно реагировать на ситуацию отсутствия файлов и другие проблемы с вводом/выводом.\n",
    "2.2) Оформить модуль с функциями, которые используются в задании 1 и 2.\n"
   ],
   "metadata": {
    "collapsed": false,
    "pycharm": {
     "name": "#%% md\n"
    }
   }
  },
  {
   "cell_type": "code",
   "execution_count": null,
   "outputs": [],
   "source": [
    "import sys\n",
    "import collections\n",
    "from pathlib import Path\n",
    "\n",
    "\n",
    "def analyze_files(filenames):\n",
    "  \"\"\"\n",
    "  Агрегирует информацию о частоте слов из всех переданных файлов.\n",
    "\n",
    "  Args:\n",
    "    filenames: Список имен файлов.\n",
    "\n",
    "  Returns:\n",
    "    collections.Counter: Объект Counter, содержащий суммарную частоту слов.\n",
    "  \"\"\"\n",
    "  word_counts = collections.Counter()\n",
    "  for filename in filenames:\n",
    "    try:\n",
    "      with open(filename, 'r') as f:\n",
    "        text = f.read().lower()\n",
    "      words = text.split()\n",
    "      word_counts.update(words)\n",
    "    except FileNotFoundError:\n",
    "      print(f\"Файл '{filename}' не найден.\")\n",
    "    except IOError as e:\n",
    "      print(f\"Ошибка при чтении файла '{filename}': {e}\")\n",
    "\n",
    "  return word_counts\n",
    "\n",
    "\n",
    "def save_results(word_counts, output_filename):\n",
    "  \"\"\"\n",
    "  Сохраняет статистику слов в CSV-файл.\n",
    "\n",
    "  Args:\n",
    "    word_counts: collections.Counter: Объект Counter, содержащий статистику слов.\n",
    "    output_filename: Имя файла, в который нужно сохранить статистику.\n",
    "  \"\"\"\n",
    "  with open(output_filename, 'w') as f:\n",
    "    f.write(\"Слово,Частота\\n\")\n",
    "    for word, count in word_counts.most_common():\n",
    "      f.write(f\"{word},{count}\\n\")\n",
    "\n",
    "\n",
    "def main():\n",
    "  \"\"\"\n",
    "  Запрашивает у пользователя имена файлов, агрегирует статистику слов и сохраняет результат в CSV-файл.\n",
    "  \"\"\"\n",
    "  filenames = []\n",
    "  while True:\n",
    "    filename = input(\"Введите имя файла (или 'q' для завершения): \")\n",
    "    if filename.lower() == 'q':\n",
    "      break\n",
    "    filenames.append(filename)\n",
    "\n",
    "  if not filenames:\n",
    "    print(\"Необходимо указать хотя бы один файл.\")\n",
    "    return\n",
    "\n",
    "  word_counts = analyze_files(filenames)\n",
    "\n",
    "  output_filename = input(\"Введите имя файла для сохранения результатов: \")\n",
    "  save_results(word_counts, output_filename)\n",
    "\n",
    "  print(f\"Статистика слов сохранена в файл '{output_filename}'.\")\n",
    "\n",
    "\n",
    "if __name__ == \"__main__\":\n",
    "  main()\n"
   ],
   "metadata": {
    "collapsed": false,
    "pycharm": {
     "name": "#%%\n"
    }
   }
  },
  {
   "cell_type": "code",
   "execution_count": null,
   "outputs": [],
   "source": [
    "import collections\n",
    "\n",
    "\n",
    "def count_words(filename):\n",
    "  \"\"\"\n",
    "  Подсчитывает частоту слов в файле.\n",
    "\n",
    "  Args:\n",
    "    filename: Имя файла.\n",
    "\n",
    "  Returns:\n",
    "    collections.Counter: Объект Counter, содержащий статистику слов.\n",
    "  \"\"\"\n",
    "  with open(filename, 'r') as f:\n",
    "    text = f.read().lower()\n",
    "  words = text.split()\n",
    "  return collections.Counter(words)\n",
    "\n",
    "\n",
    "def merge_counts(counts1, counts2):\n",
    "  \"\"\"\n",
    "  Объединяет два объекта Counter.\n",
    "\n",
    "  Args:\n",
    "    counts1: collections.Counter: Первый объект Counter.\n",
    "    counts2: collections.Counter: Второй объект Counter.\n",
    "\n",
    "  Returns:\n",
    "    collections.Counter: Объединенный объект Counter.\n",
    "  \"\"\"\n",
    "  merged_counts = collections.Counter()\n",
    "  for word, count in counts1.items():\n",
    "    merged_counts[word] += count\n",
    "  for word, count in counts2.items():\n",
    "    merged_counts[word] += count\n",
    "  return merged_counts\n",
    "\n",
    "\n",
    "def save_results(word_counts, output_filename):\n",
    "  \"\"\"\n",
    "  Сохраняет статистику слов в CSV-файл.\n",
    "\n",
    "  Args:\n",
    "    word_counts: collections.Counter: Объект Counter, содержащий статистику слов.\n",
    "    output_filename: Имя файла, в который нужно сохранить статистику.\n",
    "  \"\"\"\n",
    "  with open(output_filename, 'w') as f:\n",
    "    f.write(\"Слово,Частота\\n\")\n",
    "    for word, count in word_counts.most_common():\n",
    "      f.write(f\"{word},{count}\\n\")\n"
   ],
   "metadata": {
    "collapsed": false,
    "pycharm": {
     "name": "#%%\n"
    }
   }
  },
  {
   "cell_type": "markdown",
   "source": [
    "3.1) Написать программу, которая запускается из консоли и считает сумму переданных в неё чисел"
   ],
   "metadata": {
    "collapsed": false,
    "pycharm": {
     "name": "#%% md\n"
    }
   }
  },
  {
   "cell_type": "code",
   "execution_count": null,
   "outputs": [],
   "source": [
    "def main():\n",
    "  \"\"\"\n",
    "  Считывает числа из командной строки и выводит их сумму.\n",
    "  \"\"\"\n",
    "  numbers = [int(x) for x in sys.argv[1:]]\n",
    "  print(f\"Сумма: {sum(numbers)}\")\n",
    "\n",
    "\n",
    "if __name__ == \"__main__\":\n",
    "  main()\n"
   ],
   "metadata": {
    "collapsed": false,
    "pycharm": {
     "name": "#%%\n"
    }
   }
  },
  {
   "cell_type": "markdown",
   "source": [
    "3.2) Добавить в эту программу произведение"
   ],
   "metadata": {
    "collapsed": false,
    "pycharm": {
     "name": "#%% md\n"
    }
   }
  },
  {
   "cell_type": "code",
   "execution_count": null,
   "outputs": [],
   "source": [
    "def main():\n",
    "  \"\"\"\n",
    "  Считывает числа из командной строки и выводит их произведение.\n",
    "  \"\"\"\n",
    "  numbers = [int(x) for x in sys.argv[1:]]\n",
    "  product = 1\n",
    "  for number in numbers:\n",
    "    product *= number\n",
    "  print(f\"Произведение: {product}\")\n",
    "\n",
    "\n",
    "if __name__ == \"__main__\":\n",
    "  main()\n"
   ],
   "metadata": {
    "collapsed": false,
    "pycharm": {
     "name": "#%%\n"
    }
   }
  },
  {
   "cell_type": "markdown",
   "source": [
    "3.3) По переданному параметру считать либо сумму, либо произведение"
   ],
   "metadata": {
    "collapsed": false,
    "pycharm": {
     "name": "#%% md\n"
    }
   }
  },
  {
   "cell_type": "code",
   "execution_count": null,
   "outputs": [],
   "source": [
    "def main():\n",
    "  \"\"\"\n",
    "  Считывает числа из командной строки и выводит их сумму или произведение, в зависимости от переданного параметра.\n",
    "  \"\"\"\n",
    "  operation = sys.argv[1]\n",
    "  numbers = [int(x) for x in sys.argv[2:]]\n",
    "\n",
    "  if operation == \"sum\":\n",
    "    result = sum(numbers)\n",
    "  elif operation == \"product\":\n",
    "    product = 1\n",
    "    for number in numbers:\n",
    "      product *= number\n",
    "    result = product\n",
    "  else:\n",
    "    print(f\"Неизвестная операция: {operation}\")\n",
    "    return\n",
    "\n",
    "  print(f\"{operation}: {result}\")\n",
    "\n",
    "\n",
    "if __name__ == \"__main__\":\n",
    "  main()\n"
   ],
   "metadata": {
    "collapsed": false,
    "pycharm": {
     "name": "#%%\n"
    }
   }
  },
  {
   "cell_type": "markdown",
   "source": [
    "3.4) Оформить это дополнительный модуль"
   ],
   "metadata": {
    "collapsed": false,
    "pycharm": {
     "name": "#%% md\n"
    }
   }
  },
  {
   "cell_type": "code",
   "execution_count": null,
   "outputs": [],
   "source": [
    "def sum_numbers(numbers):\n",
    "  \"\"\"\n",
    "  Вычисляет сумму чисел.\n",
    "\n",
    "  Args:\n",
    "    numbers: Список чисел.\n",
    "\n",
    "  Returns:\n",
    "    int: Сумма чисел.\n",
    "  \"\"\"\n",
    "  return sum(numbers)\n",
    "\n",
    "\n",
    "def product_numbers(numbers):\n",
    "  \"\"\"\n",
    "  Вычисляет произведение чисел.\n",
    "\n",
    "  Args:\n",
    "    numbers: Список чисел.\n",
    "\n",
    "  Returns:\n",
    "    int: Произведение чисел.\n",
    "  \"\"\"\n",
    "  product = 1\n",
    "  for number in numbers:\n",
    "    product *= number\n",
    "  return product\n",
    "\n",
    "\n",
    "def main(operation, numbers):\n",
    "  \"\"\"\n",
    "  Вычисляет сумму или произведение чисел, в зависимости от переданного параметра.\n",
    "\n",
    "  Args:\n",
    "    operation: str: \"sum\" или \"product\".\n",
    "    numbers: Список чисел.\n",
    "\n",
    "  Returns:\n",
    "    int: Сумма или произведение чисел.\n",
    "  \"\"\"\n",
    "  if operation == \"sum\":\n",
    "    return sum_numbers(numbers)\n",
    "  elif operation == \"product\":\n",
    "    return product_numbers(numbers)\n",
    "  else:\n",
    "    raise ValueError(f\"Неизвестная операция: {operation}\")\n",
    "\n",
    "\n",
    "if __name__ == \"__main__\":\n",
    "  operation = sys.argv[1]\n",
    "  numbers = [int(x) for x in sys.argv[2:]]\n",
    "  result = main(operation, numbers)\n",
    "  print(f\"{operation}: {result}\")"
   ],
   "metadata": {
    "collapsed": false,
    "pycharm": {
     "name": "#%%\n"
    }
   }
  },
  {
   "cell_type": "code",
   "execution_count": null,
   "outputs": [],
   "source": [
    "4) Реализовать модуль calculate.py, содержащий набор функций для работы с целыми числами, записанными как на русском языке (например: тридцать восемь), так и в виде простых арифметических выражений (например: 2 + 3).\n",
    "На базе этого модуля подготовить скрипт calculate.py со следующими возможностями:\n",
    "1) python claculate.py to_numbers my_file.txt\n",
    "Вызов приводит к преобразованию всех чисел, написанных на русском языке в числовом виде и сохранению изменений в файл с тем же именем.\n",
    "python claculate.py to_numbers my_file.txt my_file_res.txt\n",
    "(результат сохраняется в файл с именем my_file_res.txt)\n"
   ],
   "metadata": {
    "collapsed": false,
    "pycharm": {
     "name": "#%%\n"
    }
   }
  },
  {
   "cell_type": "code",
   "execution_count": null,
   "outputs": [],
   "source": [
    "from pymorphy2 import MorphAnalyzer\n",
    "from num2words import num2words\n",
    "\n",
    "morph = MorphAnalyzer()\n",
    "\n",
    "def to_number(text):\n",
    "  \"\"\"\n",
    "  Преобразует текст, написанный на русском языке, в число.\n",
    "\n",
    "  Args:\n",
    "    text: str: Текст, который нужно преобразовать.\n",
    "\n",
    "  Returns:\n",
    "    int: Число.\n",
    "  \"\"\"\n",
    "  words = morph.parse(text)\n",
    "  numbers = []\n",
    "  for word in words:\n",
    "    if word.tag.POS == 'NUMB':\n",
    "      numbers.append(word.normal_form)\n",
    "  if not numbers:\n",
    "    raise ValueError(f\"В тексте '{text}' не найдено число.\")\n",
    "  number_str = ''.join(numbers)\n",
    "  return int(num2words.num2words(number_str, lang='ru'))\n",
    "\n",
    "\n",
    "def from_number(number):\n",
    "  \"\"\"\n",
    "  Преобразует число в текст, написанный на русском языке.\n",
    "\n",
    "  Args:\n",
    "    number: int: Число.\n",
    "\n",
    "  Returns:\n",
    "    str: Текст, написанный на русском языке.\n",
    "  \"\"\"\n",
    "  return num2words.num2words(number, lang='ru')\n",
    "\n",
    "\n",
    "def calculate(expression):\n",
    "  \"\"\"\n",
    "  Вычисляет значение арифметического выражения.\n",
    "\n",
    "  Args:\n",
    "    expression: str: Арифметическое выражение.\n",
    "\n",
    "  Returns:\n",
    "    int: Значение выражения.\n",
    "  \"\"\"\n",
    "  return eval(expression)\n",
    "\n",
    "\n",
    "if __name__ == \"__main__\":\n",
    "  print(to_number(\"тридцать восемь\"))  # 38\n",
    "  print(from_number(38))  # тридцать восемь\n",
    "  print(calculate(\"2 + 3\"))  # 5\n",
    "  "
   ],
   "metadata": {
    "collapsed": false,
    "pycharm": {
     "name": "#%%\n"
    }
   }
  }
 ],
 "metadata": {
  "kernelspec": {
   "display_name": "Python 3",
   "language": "python",
   "name": "python3"
  },
  "language_info": {
   "codemirror_mode": {
    "name": "ipython",
    "version": 2
   },
   "file_extension": ".py",
   "mimetype": "text/x-python",
   "name": "python",
   "nbconvert_exporter": "python",
   "pygments_lexer": "ipython2",
   "version": "2.7.6"
  }
 },
 "nbformat": 4,
 "nbformat_minor": 0
}
