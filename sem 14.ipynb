{
 "cells": [
  {
   "cell_type": "markdown",
   "id": "74ff431c",
   "metadata": {
    "pycharm": {
     "name": "#%% md\n"
    }
   },
   "source": [
    "10) Написать 4 функции порождения списка целых значений: отсортированного (по возрастанию и убыванию), случайного и почти отсортированного по возрастанию. Каждая функция принимает длину списка в качестве аргумента."
   ]
  },
  {
   "cell_type": "code",
   "execution_count": 28,
   "id": "9ed2fa0c",
   "metadata": {
    "pycharm": {
     "name": "#%%\n"
    }
   },
   "outputs": [
    {
     "name": "stdout",
     "output_type": "stream",
     "text": [
      "[1, 2, 3, 4, 5, 6, 7, 8, 9, 10]\n",
      "[10, 9, 8, 7, 6, 5, 4, 3, 2, 1]\n",
      "[5, 2, 8, 10, 1, 7, 9, 3, 8, 4]\n",
      "[1, 2, 3, 4, 5, 6, 7, 8, 10, 9]\n"
     ]
    }
   ],
   "source": [
    "import random\n",
    "def generate_sorted_list(leng): #генерируем отсортированный массив\n",
    "    return [i for i in range(1,leng+1)]\n",
    "print(generate_sorted_list(10))\n",
    "def generate_unsorted_list(leng): #генерируем отсортированный массив в порядке убывания\n",
    "    return [i for i in range(leng, 0, -1)]\n",
    "print(generate_unsorted_list(10))\n",
    "def generate_random_list(leng): #генерируем массив случайных чисел\n",
    "    return [random.randint(1, 10) for _ in range(leng)]\n",
    "print(generate_random_list(10))\n",
    "def generate_non_sorted_list(leng): #почти отсортированного по возрастанию\n",
    "    arr = list(range(1, leng+1))\n",
    "    tmp = arr[-2]\n",
    "    arr[-2] = arr[-1]\n",
    "    arr[-1] = tmp\n",
    "    return arr\n",
    "print(generate_non_sorted_list(10))"
   ]
  },
  {
   "cell_type": "markdown",
   "id": "56783d0a",
   "metadata": {
    "pycharm": {
     "name": "#%% md\n"
    }
   },
   "source": [
    "11) Реализовать функцию тестирования алгоритма сортировки. Процедура принимает на вход алгоритм сортировки и алгоритм порождения списка f_gen(list_len), генерирующий список заданной длины, количество повтороений теста и список длин использующихся для тестирования. Для каждой длины списка функция тестирования возвращает минимальное, среднее и наибольшее количество сравнений и перестановок."
   ]
  },
  {
   "cell_type": "code",
   "execution_count": 6,
   "id": "e71b79b2",
   "metadata": {
    "pycharm": {
     "name": "#%%\n"
    }
   },
   "outputs": [],
   "source": [
    "def bubble_sort(lst2)-> tuple:\n",
    "    lst = lst2.copy()  \n",
    "    swaps = 0\n",
    "    compares = 0\n",
    "    n = len(lst)\n",
    "    for i in range(n-1, 0, -1):\n",
    "        for j in range(i):\n",
    "            compares += 1\n",
    "            if lst[j] > lst[j+1]:\n",
    "                swaps += 1\n",
    "                lst[j], lst[j+1] = lst[j+1], lst[j]\n",
    "    \n",
    "    return lst, compares, swaps"
   ]
  },
  {
   "cell_type": "code",
   "execution_count": 8,
   "id": "7b8383df",
   "metadata": {
    "pycharm": {
     "name": "#%%\n"
    }
   },
   "outputs": [
    {
     "name": "stdout",
     "output_type": "stream",
     "text": [
      "[82, 93, 51, 5, 85, 7, 88, 42, 9, 63]\n",
      "([5, 7, 9, 42, 51, 63, 82, 85, 88, 93], 45, 26)\n"
     ]
    }
   ],
   "source": [
    "from random import sample\n",
    "\n",
    "def gen_rand_list(length):\n",
    "    return sample(range(0, length*10), length)\n",
    "generated = gen_rand_list(10)\n",
    "print(generated)\n",
    "print(bubble_sort(generated))"
   ]
  },
  {
   "cell_type": "code",
   "execution_count": 9,
   "id": "5e15312f",
   "metadata": {
    "pycharm": {
     "name": "#%%\n"
    }
   },
   "outputs": [],
   "source": [
    "def test_sort(sort_alg, list_generator, n, list_lens):\n",
    "    results = {}\n",
    "    \n",
    "    for length in list_lens:\n",
    "        comparisons = [] \n",
    "        swaps = [] \n",
    "        for _ in range(n):\n",
    "            lst = list_generator(length)\n",
    "            sorted_lst, n_compares, n_swaps = sort_alg(lst)\n",
    "            comparisons.append(n_compares)\n",
    "            swaps.append(n_swaps)\n",
    "            if sorted_lst != sorted(lst):\n",
    "                return None\n",
    "        min_compares = min(comparisons)\n",
    "        max_compares = max(comparisons)\n",
    "        avg_compares = sum(comparisons) / len(comparisons)\n",
    "        min_swaps = min(swaps)\n",
    "        max_swaps = max(swaps)\n",
    "        avg_swaps = sum(swaps) / len(swaps)\n",
    "        \n",
    "        results[length] = { \n",
    "                                \"min_comp\": min_compares,\n",
    "                                \"avg_comp\": avg_compares,\n",
    "                                \"max_comp\": max_compares,\n",
    "                                \"min_swaps\": min_swaps,\n",
    "                                \"avg_swaps\": avg_swaps,\n",
    "                                \"max_swaps\": max_swaps\n",
    "                            }\n",
    "\n",
    "    return results"
   ]
  },
  {
   "cell_type": "code",
   "execution_count": 10,
   "id": "2b01111c",
   "metadata": {
    "pycharm": {
     "name": "#%%\n"
    }
   },
   "outputs": [
    {
     "name": "stdout",
     "output_type": "stream",
     "text": [
      "10\n",
      "min_comp 45\n",
      "avg_comp 45.0\n",
      "max_comp 45\n",
      "min_swaps 11\n",
      "avg_swaps 22.7\n",
      "max_swaps 29\n",
      "\n",
      "100\n",
      "min_comp 4950\n",
      "avg_comp 4950.0\n",
      "max_comp 4950\n",
      "min_swaps 2057\n",
      "avg_swaps 2488.15\n",
      "max_swaps 2690\n",
      "\n",
      "200\n",
      "min_comp 19900\n",
      "avg_comp 19900.0\n",
      "max_comp 19900\n",
      "min_swaps 8972\n",
      "avg_swaps 9872.75\n",
      "max_swaps 10681\n",
      "\n"
     ]
    }
   ],
   "source": [
    "res = test_sort(bubble_sort, gen_rand_list, 20, [10, 100, 200])\n",
    "for length in res:\n",
    "    print(length)\n",
    "    for d in res[length]:\n",
    "        print(d, res[length][d])\n",
    "    print()"
   ]
  },
  {
   "cell_type": "markdown",
   "id": "5268d2da",
   "metadata": {
    "pycharm": {
     "name": "#%% md\n"
    }
   },
   "source": [
    "12) Реализовать модификацию сортировки пузырьком: \"камешек-пузырек\" - с чередующимися проходами, приводящими к \"всплытию\" самого большого значения списка и \"погружению\" самого маленького значения из неотсортированной части списка."
   ]
  },
  {
   "cell_type": "code",
   "execution_count": 4,
   "id": "3dbc85d7",
   "metadata": {
    "pycharm": {
     "name": "#%%\n"
    }
   },
   "outputs": [
    {
     "name": "stdout",
     "output_type": "stream",
     "text": [
      "Отсортированный массив: [11, 12, 22, 25, 33, 34, 64, 90, 111, 123]\n"
     ]
    }
   ],
   "source": [
    "def stone_bubble_sort(arr):\n",
    "    n = len(arr)\n",
    "    is_sorted = False\n",
    "\n",
    "    while not is_sorted:\n",
    "        is_sorted = True\n",
    "        for i in range(1, n-1, 2):  # Проходы для \"всплытия\"\n",
    "            if arr[i] > arr[i+1]:\n",
    "                arr[i], arr[i+1] = arr[i+1], arr[i]\n",
    "                is_sorted = False\n",
    "\n",
    "        for i in range(0, n-1, 2):  # Проходы для \"погружения\"\n",
    "            if arr[i] > arr[i+1]:\n",
    "                arr[i], arr[i+1] = arr[i+1], arr[i]\n",
    "                is_sorted = False\n",
    "\n",
    "    return arr\n",
    "\n",
    "arr = [64, 34, 25, 12, 22, 11, 90, 33, 123, 111]\n",
    "sorted_arr = stone_bubble_sort(arr)\n",
    "print(\"Отсортированный массив:\", sorted_arr)"
   ]
  },
  {
   "cell_type": "markdown",
   "id": "badc706b",
   "metadata": {
    "pycharm": {
     "name": "#%% md\n"
    }
   },
   "source": [
    "14) Протестировать алгоритм \"пузырек\" и \"камешек-пузырек\" на разных типах списков."
   ]
  },
  {
   "cell_type": "code",
   "execution_count": 27,
   "id": "3a05414f",
   "metadata": {
    "pycharm": {
     "name": "#%%\n"
    }
   },
   "outputs": [
    {
     "name": "stdout",
     "output_type": "stream",
     "text": [
      "Original list: [52, 44, 89, 59, 20, 80, 3, 49, 88, 52]\n",
      "Sorted list: [3, 20, 44, 49, 52, 59, 89, 80, 52, 88]\n",
      "\n",
      "\n",
      "Original list: [1, 9, 24, 56, 58, 63, 63, 73, 80, 81]\n",
      "Sorted list: [1, 9, 24, 56, 58, 63, 63, 73, 80, 81]\n",
      "\n",
      "\n",
      "Original list: [58, 25, 8, 79, 24, 17, 50, 65, 26, 85]\n",
      "Sorted list: [8, 17, 24, 25, 26, 58, 79, 50, 65, 85]\n",
      "\n",
      "\n"
     ]
    }
   ],
   "source": [
    "def test_sorting_algorithm(sort_func, list_type, list_length):\n",
    "    if list_type == \"random\":\n",
    "        test_list = random_values(list_length)\n",
    "    elif list_type == \"sorted_acs\":\n",
    "        test_list = sorted_acs(list_length)\n",
    "    elif list_type == \"almost_sorted\":\n",
    "        test_list = elmost_sorted_asc(list_length)\n",
    "\n",
    "    print(\"Original list:\", test_list)\n",
    "\n",
    "    sorted_list = sort_func(test_list.copy())\n",
    "    print(\"Sorted list:\", sorted_list)\n",
    "    print(\"\\n\")\n",
    "\n",
    "test_sorting_algorithm(stone_bubble_sort, \"random\", 10)  \n",
    "test_sorting_algorithm(stone_bubble_sort, \"sorted_acs\", 10)  \n",
    "test_sorting_algorithm(stone_bubble_sort, \"almost_sorted\", 10)"
   ]
  },
  {
   "cell_type": "markdown",
   "id": "35c228c3",
   "metadata": {
    "pycharm": {
     "name": "#%% md\n"
    }
   },
   "source": [
    "15) Реализовать модификацию сортировки выбором на основе выбора из подсписков (описанного в лекции). Протестировать алгоритм."
   ]
  },
  {
   "cell_type": "code",
   "execution_count": 29,
   "id": "97924810",
   "metadata": {
    "pycharm": {
     "name": "#%%\n"
    }
   },
   "outputs": [
    {
     "name": "stdout",
     "output_type": "stream",
     "text": [
      "[0, 1, 2, 3, 5, 10, 12, 12, 13, 14, 15, 18, 30]\n"
     ]
    }
   ],
   "source": [
    "def stone_bubble_sort(arr):\n",
    "    n = len(arr)\n",
    "    sublist_length = int(n**0.5)\n",
    "    while n > 1:\n",
    "        k = []\n",
    "        for i in range(0, n, sublist_length):\n",
    "            sublist = arr[i:min(n, i+sublist_length)]\n",
    "            max_index = sublist.index(max(sublist))\n",
    "            max_value = sublist[max_index]\n",
    "            k.append(max_value)\n",
    "        max_index = arr.index(max(k))\n",
    "        arr[max_index], arr[n - 1] = arr[n - 1], arr[max_index]\n",
    "        n -= 1\n",
    "    return arr\n",
    "\n",
    "sorted_arr = stone_bubble_sort([1,2,12,12,0,5,3,10,18,15,14,13,30])\n",
    "print(sorted_arr)"
   ]
  },
  {
   "cell_type": "markdown",
   "id": "b9be793c",
   "metadata": {
    "pycharm": {
     "name": "#%% md\n"
    }
   },
   "source": [
    "16) Реализовать быструю сортировку с возможностью подсчета операций. Сравнить производительность алгоритма на случайных и упорядоченных (и почти упорядоченных) данных."
   ]
  },
  {
   "cell_type": "code",
   "execution_count": 34,
   "id": "9e08d8bb",
   "metadata": {
    "pycharm": {
     "name": "#%%\n"
    }
   },
   "outputs": [
    {
     "name": "stdout",
     "output_type": "stream",
     "text": [
      "Сравнение производительности на случайных данных:\n",
      "==================================================\n",
      "Длина списка: 10, Время выполнения: 0.000000 сек\n",
      "Длина списка: 100, Время выполнения: 0.000000 сек\n",
      "Длина списка: 1000, Время выполнения: 0.002507 сек\n",
      "==================================================\n",
      "Сравнение производительности на упорядоченных данных:\n",
      "==================================================\n",
      "Длина списка: 10, Время выполнения: 0.000000 сек\n",
      "Длина списка: 100, Время выполнения: 0.000000 сек\n",
      "Длина списка: 1000, Время выполнения: 0.002034 сек\n",
      "==================================================\n",
      "Сравнение производительности на почти упорядоченных данных:\n",
      "==================================================\n",
      "Длина списка: 10, Время выполнения: 0.000000 сек\n",
      "Длина списка: 100, Время выполнения: 0.000000 сек\n",
      "Длина списка: 1000, Время выполнения: 0.001999 сек\n",
      "==================================================\n"
     ]
    }
   ],
   "source": [
    "def quick_sort(arr):\n",
    "    comparisons = 0\n",
    "    swaps = 0\n",
    "    stack = [(0, len(arr) - 1)]\n",
    "    while stack:\n",
    "        low, high = stack.pop()\n",
    "        pivot_index = random.randint(low, high)\n",
    "        pivot = arr[pivot_index]\n",
    "        arr[pivot_index], arr[high] = arr[high], arr[pivot_index]\n",
    "        i = low - 1\n",
    "        for j in range(low, high):\n",
    "            comparisons += 1\n",
    "            if arr[j] < pivot:\n",
    "                i += 1\n",
    "                arr[i], arr[j] = arr[j], arr[i]\n",
    "                swaps += 1\n",
    "        arr[i + 1], arr[high] = arr[high], arr[i + 1]\n",
    "        swaps += 1\n",
    "        if low < i:\n",
    "            stack.append((low, i))\n",
    "        if i + 2 < high:\n",
    "            stack.append((i + 2, high))\n",
    "\n",
    "    return comparisons, swaps\n",
    "import time \n",
    "def measure_sorting_time(sort_algorithm, arr):\n",
    "    start_time = time.time() \n",
    "    sort_algorithm(arr)\n",
    "    end_time = time.time()\n",
    "    return end_time - start_time\n",
    "\n",
    "print(\"Сравнение производительности на случайных данных:\")\n",
    "print(\"=\" * 50)\n",
    "for length in list_lengths:\n",
    "    lst = random_list(length)\n",
    "    time_taken = measure_sorting_time(quick_sort, lst.copy())\n",
    "    print(f\"Длина списка: {length}, Время выполнения: {time_taken:.6f} сек\")\n",
    "print(\"=\" * 50)\n",
    "\n",
    "print(\"Сравнение производительности на упорядоченных данных:\")\n",
    "print(\"=\" * 50)\n",
    "for length in list_lengths:\n",
    "    lst = sorted_list(length)\n",
    "    time_taken = measure_sorting_time(quick_sort, lst.copy())\n",
    "    print(f\"Длина списка: {length}, Время выполнения: {time_taken:.6f} сек\")\n",
    "print(\"=\" * 50)\n",
    "\n",
    "print(\"Сравнение производительности на почти упорядоченных данных:\")\n",
    "print(\"=\" * 50)\n",
    "for length in list_lengths:\n",
    "    lst = almost_sorted_list(length)\n",
    "    time_taken = measure_sorting_time(quick_sort, lst.copy())\n",
    "    print(f\"Длина списка: {length}, Время выполнения: {time_taken:.6f} сек\")\n",
    "print(\"=\" * 50)"
   ]
  },
  {
   "cell_type": "markdown",
   "id": "21f44270",
   "metadata": {
    "pycharm": {
     "name": "#%% md\n"
    }
   },
   "source": [
    "17) Улучшить работу быстрой сортировки на упорядоченных и почти упорядоченных за счет изменения алгоритма выбора элемента для разделения массива."
   ]
  },
  {
   "cell_type": "code",
   "execution_count": 37,
   "id": "09200021",
   "metadata": {
    "pycharm": {
     "name": "#%%\n"
    }
   },
   "outputs": [
    {
     "name": "stdout",
     "output_type": "stream",
     "text": [
      "Сравнение производительности на случайных данных:\n",
      "==================================================\n",
      "Длина списка: 10, Время выполнения: 0.000000 сек\n",
      "Длина списка: 100, Время выполнения: 0.000000 сек\n",
      "Длина списка: 1000, Время выполнения: 0.005000 сек\n",
      "==================================================\n",
      "Сравнение производительности на упорядоченных данных:\n",
      "==================================================\n",
      "Длина списка: 10, Время выполнения: 0.000000 сек\n",
      "Длина списка: 100, Время выполнения: 0.000000 сек\n",
      "Длина списка: 1000, Время выполнения: 0.002506 сек\n",
      "==================================================\n",
      "Сравнение производительности на почти упорядоченных данных:\n",
      "==================================================\n",
      "Длина списка: 10, Время выполнения: 0.000000 сек\n",
      "Длина списка: 100, Время выполнения: 0.000000 сек\n",
      "Длина списка: 1000, Время выполнения: 0.002003 сек\n",
      "==================================================\n"
     ]
    }
   ],
   "source": [
    "def quick_sort(arr):\n",
    "    comparisons = 0\n",
    "    swaps = 0\n",
    "    stack = [(0, len(arr) - 1)]\n",
    "    while stack:\n",
    "        low, high = stack.pop()\n",
    "        pivot_index = random.randint(low, high)\n",
    "        pivot = arr[pivot_index]\n",
    "        arr[pivot_index], arr[high] = arr[high], arr[pivot_index]\n",
    "        i = low - 1\n",
    "        for j in range(low, high):\n",
    "            comparisons += 1\n",
    "            if arr[j] < pivot:\n",
    "                i += 1\n",
    "                arr[i], arr[j] = arr[j], arr[i]\n",
    "                swaps += 1\n",
    "        arr[i + 1], arr[high] = arr[high], arr[i + 1]\n",
    "        swaps += 1\n",
    "        if low < i:\n",
    "            stack.append((low, i))\n",
    "        if i + 2 < high:\n",
    "            stack.append((i + 2, high))\n",
    "\n",
    "    return comparisons, swaps\n",
    "print(\"Сравнение производительности на случайных данных:\")\n",
    "print(\"=\" * 50)\n",
    "for length in list_lengths:\n",
    "    lst = generate_random_list(length)\n",
    "    time_taken = measure_sorting_time(quick_sort, lst.copy())\n",
    "    print(f\"Длина списка: {length}, Время выполнения: {time_taken:.6f} сек\")\n",
    "print(\"=\" * 50)\n",
    "\n",
    "print(\"Сравнение производительности на упорядоченных данных:\")\n",
    "print(\"=\" * 50)\n",
    "for length in list_lengths:\n",
    "    lst = generate_sorted_list(length)\n",
    "    time_taken = measure_sorting_time(quick_sort, lst.copy())\n",
    "    print(f\"Длина списка: {length}, Время выполнения: {time_taken:.6f} сек\")\n",
    "print(\"=\" * 50)\n",
    "\n",
    "print(\"Сравнение производительности на почти упорядоченных данных:\")\n",
    "print(\"=\" * 50)\n",
    "for length in list_lengths:\n",
    "    lst = generate_unsorted_list(length)\n",
    "    time_taken = measure_sorting_time(quick_sort, lst.copy())\n",
    "    print(f\"Длина списка: {length}, Время выполнения: {time_taken:.6f} сек\")\n",
    "print(\"=\" * 50)"
   ]
  },
  {
   "cell_type": "markdown",
   "id": "1a844a31",
   "metadata": {
    "pycharm": {
     "name": "#%% md\n"
    }
   },
   "source": [
    "18) Реализовать эффективный алгоритм получения из большого количества отсортированных списков одного отсортированного списка."
   ]
  },
  {
   "cell_type": "code",
   "execution_count": 39,
   "id": "9c76304a",
   "metadata": {
    "pycharm": {
     "name": "#%%\n"
    }
   },
   "outputs": [
    {
     "name": "stdout",
     "output_type": "stream",
     "text": [
      "[1, 8, 9, 12, 13, 23, 23, 44, 45, 69, 123, 1223]\n"
     ]
    }
   ],
   "source": [
    "def merge_sorted_lists(lists):\n",
    "    import heapq\n",
    "    heap = []\n",
    "    for i, lst in enumerate(lists):\n",
    "        if lst:\n",
    "            heapq.heappush(heap, (lst[0], i, 0))\n",
    "\n",
    "    result = []\n",
    "    while heap:\n",
    "        val, list_index, idx = heapq.heappop(heap)\n",
    "        result.append(val)\n",
    "        if idx + 1 < len(lists[list_index]):\n",
    "            next_tuple = (lists[list_index][idx + 1], list_index, idx + 1)\n",
    "            heapq.heappush(heap, next_tuple)\n",
    "    return result\n",
    "list1 = [8, 12, 23, 69]\n",
    "list2 = [1, 9, 13, 23]\n",
    "list3 = [44, 45, 123, 1223]\n",
    "\n",
    "result = merge_sorted_lists([list1, list2, list3])\n",
    "print(result)  "
   ]
  },
  {
   "cell_type": "markdown",
   "id": "76f26058",
   "metadata": {
    "pycharm": {
     "name": "#%% md\n"
    }
   },
   "source": [
    "19) Модифицировать последовательность длин шагов в сортировке Шелла.\n",
    "На 2[𝑛/2𝑘+1]+1 т.е. при первой сортировке будут использоваться шаги: 2[n/4]+1, 2[n/8]+1, ... , 3, 1 ."
   ]
  },
  {
   "cell_type": "code",
   "execution_count": 40,
   "id": "88f8e8f6",
   "metadata": {
    "pycharm": {
     "name": "#%%\n"
    }
   },
   "outputs": [
    {
     "name": "stdout",
     "output_type": "stream",
     "text": [
      "[1, 2, 3, 4, 5, 6, 7, 8]\n"
     ]
    }
   ],
   "source": [
    "def shell_sort(lst, lst_len):\n",
    "    k = 2\n",
    "    interval = 2*(lst_len//(2*k))+1\n",
    "    \n",
    "    while interval > 0:\n",
    "        for i in range(interval, lst_len):\n",
    "            tmp = lst[i]\n",
    "            j = i\n",
    "            while j >= interval and lst[j - interval] > tmp:\n",
    "                lst[j] = lst[j - interval]\n",
    "                j -= interval\n",
    "            lst[j] = tmp\n",
    "        \n",
    "        if interval == 1:\n",
    "            break\n",
    "            \n",
    "        k *= 2\n",
    "        interval = 2*(lst_len//(2*k))+1\n",
    "lst = [8, 6, 7, 2, 1, 4, 5, 3]\n",
    "shell_sort(lst, len(lst))\n",
    "print(lst)"
   ]
  },
  {
   "cell_type": "code",
   "execution_count": null,
   "id": "5fec0079",
   "metadata": {
    "pycharm": {
     "name": "#%%\n"
    }
   },
   "outputs": [],
   "source": []
  }
 ],
 "metadata": {
  "kernelspec": {
   "display_name": "Python 3 (ipykernel)",
   "language": "python",
   "name": "python3"
  },
  "language_info": {
   "codemirror_mode": {
    "name": "ipython",
    "version": 3
   },
   "file_extension": ".py",
   "mimetype": "text/x-python",
   "name": "python",
   "nbconvert_exporter": "python",
   "pygments_lexer": "ipython3",
   "version": "3.11.5"
  }
 },
 "nbformat": 4,
 "nbformat_minor": 5
}