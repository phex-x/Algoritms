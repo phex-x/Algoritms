{
 "cells": [
  {
   "cell_type": "markdown",
   "source": [
    "При помощи стека (можно использовать любую реализацию стека, например, из лекции) проверить, что в строке содержащей большой фрагмент кода на python, корректно открываются и закрываются скобки '(' и ')'. Заводить какие-либо счетчики и вообще вести подсчет скобок запрещено"
   ],
   "metadata": {
    "collapsed": false,
    "pycharm": {
     "name": "#%% md\n"
    }
   }
  },
  {
   "cell_type": "code",
   "execution_count": 1,
   "outputs": [
    {
     "name": "stdout",
     "output_type": "stream",
     "text": [
      "Введите строку\n",
      "Корректное количество скобок\n"
     ]
    }
   ],
   "source": [
    "print('Введите строку')\n",
    "s = str(input())\n",
    "stek = []\n",
    "for el in s:\n",
    "    if el == '(':\n",
    "        stek.append(el)\n",
    "    try:\n",
    "        if el == ')':\n",
    "            stek.remove('(')\n",
    "    except ValueError:\n",
    "        stek.append('')\n",
    "        break\n",
    "print('Корректное количество скобок') if len(stek) == 0 else print('Некорректное количесвто скобок')\n"
   ],
   "metadata": {
    "collapsed": false,
    "pycharm": {
     "name": "#%%\n"
    }
   }
  },
  {
   "cell_type": "markdown",
   "source": [
    " С помощью списка (list) реализовать стек. При создании стека нужно передать максимальную длину стека. В случае попытки добавления элемента, приводящего к превышению емкости стека возвращать ошибку.\n",
    "Стек должен поддерживать следующие операции:\n",
    "S.push(e): добавление элемента e на вершину стека S.\n",
    "S.pop(): удаляет и возвращает верхний элемент стека S. Если стек пуст, то возникает ошибка.\n",
    "S.top(): возвращает верхний элемент стека S, не удаляя его. Если стек пуст, то возникает ошибка.\n",
    "S.is_empty( ): возвращает True если стек S не содержит ни одного элемента.\n",
    "len(S): возвращает текущеее количество элементов в стеке S.\n"
   ],
   "metadata": {
    "collapsed": false,
    "pycharm": {
     "name": "#%% md\n"
    }
   }
  },
  {
   "cell_type": "code",
   "execution_count": 2,
   "outputs": [
    {
     "name": "stdout",
     "output_type": "stream",
     "text": [
      "Введите максимальную емкость стека\n"
     ]
    }
   ],
   "source": [
    "stek = []\n",
    "print('Введите максимальную емкость стека')\n",
    "n = int(input())\n",
    "\n",
    "\n",
    "def push(el):\n",
    "    if len(stek)+1 <= n:\n",
    "        stek.append(el)\n",
    "    else:\n",
    "        print('Первышена максимальная емкость стека')\n",
    "        raise AssertionError\n",
    "\n",
    "\n",
    "def popitem():\n",
    "    el = stek[-1]\n",
    "    stek.pop(-1)\n",
    "    return el\n",
    "\n",
    "\n",
    "def top():\n",
    "    if len(stek) == 0:\n",
    "        print('Стек пустой')\n",
    "        raise AssertionError\n",
    "    else:\n",
    "        return stek[-1]\n",
    "\n",
    "\n",
    "def is_empty():\n",
    "    if len(stek) == 0:\n",
    "        return True\n",
    "    else:\n",
    "        return False\n",
    "\n",
    "\n",
    "def length():\n",
    "    return len(stek)\n"
   ],
   "metadata": {
    "collapsed": false,
    "pycharm": {
     "name": "#%%\n"
    }
   }
  },
  {
   "cell_type": "markdown",
   "source": [
    "Реализовать класс однонаправленного связанного списка.\n",
    "Реализовать метод добавления элемента в начало списка."
   ],
   "metadata": {
    "collapsed": false,
    "pycharm": {
     "name": "#%% md\n"
    }
   }
  },
  {
   "cell_type": "code",
   "execution_count": null,
   "outputs": [],
   "source": [
    "class S():\n",
    "\n",
    "    def __init__(self, stek, max_length, el):\n",
    "        self.x = list(stek)\n",
    "        self.ml = max_length\n",
    "        self.el = el\n",
    "\n",
    "    def check(self):\n",
    "        if S.len()>self.ml:\n",
    "            return AssertionError\n",
    "\n",
    "    def push(self):\n",
    "        self.x = self.x.append(self.el)\n",
    "        S.check()\n",
    "\n",
    "    def top(self):\n",
    "        return self.x[:-1]\n",
    "\n",
    "    def pop(self):\n",
    "        last = S.top()\n",
    "        self.x = self.x[:-1]\n",
    "        return last\n",
    "\n",
    "    def len(self):\n",
    "        return len(self.x)\n",
    "\n",
    "    def is_empty(self):\n",
    "        if S.len()==0:\n",
    "            return True\n",
    "        else:\n",
    "            return False\n",
    "\n",
    "    def main(self):\n",
    "        print(self.x)\n",
    "        S.push(5)\n",
    "        S.push(6)\n",
    "        print(self.x)\n",
    "        print(S.pop())\n",
    "        print(self.x)\n",
    "        print(S.top())\n",
    "        print(self.x)\n",
    "        print(S.len())\n",
    "        print(S.is_empty())\n",
    "\n",
    "if __name__=='__main__':\n",
    "    S.main([1, 2, 3], 5, 4)"
   ],
   "metadata": {
    "collapsed": false,
    "pycharm": {
     "name": "#%%\n"
    }
   }
  },
  {
   "cell_type": "markdown",
   "source": [
    "На базе класса однонаправленного связанного списка реализовать двунаправленный связанный список.\n",
    "Реализовать метод добавления элемента в начало списка."
   ],
   "metadata": {
    "collapsed": false,
    "pycharm": {
     "name": "#%% md\n"
    }
   }
  },
  {
   "cell_type": "code",
   "execution_count": null,
   "outputs": [],
   "source": [
    "class Node:\n",
    "  \"\"\"\n",
    "  Класс, описывающий узел двунаправленного связанного списка.\n",
    "  \"\"\"\n",
    "\n",
    "  def __init__(self, value, next=None, prev=None):\n",
    "    \"\"\"\n",
    "    Инициализирует экземпляр класса Node.\n",
    "\n",
    "    Args:\n",
    "      value: Значение, хранимое в узле.\n",
    "      next: Ссылка на следующий узел.\n",
    "      prev: Ссылка на предыдущий узел.\n",
    "\n",
    "    Returns:\n",
    "      None.\n",
    "    \"\"\"\n",
    "    self.value = value\n",
    "    self.next = next\n",
    "    self.prev = prev\n",
    "\n",
    "class LinkedList:\n",
    "  \"\"\"\n",
    "  Класс, описывающий двунаправленный связанный список.\n",
    "  \"\"\"\n",
    "\n",
    "  def __init__(self):\n",
    "    \"\"\"\n",
    "    Инициализирует экземпляр класса LinkedList.\n",
    "\n",
    "    Args:\n",
    "      None.\n",
    "\n",
    "    Returns:\n",
    "      None.\n",
    "    \"\"\"\n",
    "    self.head = None\n",
    "    self.tail = None\n",
    "\n",
    "  def add_to_head(self, value):\n",
    "    \"\"\"\n",
    "    Добавляет элемент в начало списка.\n",
    "\n",
    "    Args:\n",
    "      value: Значение, которое нужно добавить.\n",
    "\n",
    "    Returns:\n",
    "      None.\n",
    "    \"\"\"\n",
    "    new_node = Node(value)\n",
    "    if self.head is None:\n",
    "      self.head = self.tail = new_node\n",
    "    else:\n",
    "      new_node.next = self.head\n",
    "      self.head.prev = new_node\n",
    "      self.head = new_node\n",
    "\n",
    "  # ... (реализация других методов)\n",
    "\n",
    "    def add_to_head(self, value):\n",
    "      \"\"\"\n",
    "      Добавляет элемент в начало списка.\n",
    "\n",
    "        Args:\n",
    "          value: Значение, которое нужно добавить.\n",
    "\n",
    "        Returns:\n",
    "          None.\n",
    "        \"\"\"\n",
    "      new_node = Node(value)\n",
    "      if self.head is None:\n",
    "        self.head = self.tail = new_node\n",
    "      else:\n",
    "        new_node.next = self.head\n",
    "        self.head.prev = new_node\n",
    "        self.head = new_node\n"
   ],
   "metadata": {
    "collapsed": false,
    "pycharm": {
     "name": "#%%\n"
    }
   }
  },
  {
   "cell_type": "markdown",
   "source": [
    "При помощи класса связанного списка реализовать очередь."
   ],
   "metadata": {
    "collapsed": false,
    "pycharm": {
     "name": "#%% md\n"
    }
   }
  },
  {
   "cell_type": "code",
   "execution_count": null,
   "outputs": [],
   "source": [
    "class Node:\n",
    "  \"\"\"\n",
    "  Класс, описывающий узел связанного списка.\n",
    "  \"\"\"\n",
    "\n",
    "  def __init__(self, value, next=None):\n",
    "    \"\"\"\n",
    "    Инициализирует экземпляр класса Node.\n",
    "\n",
    "    Args:\n",
    "      value: Значение, хранимое в узле.\n",
    "      next: Ссылка на следующий узел.\n",
    "\n",
    "    Returns:\n",
    "      None.\n",
    "    \"\"\"\n",
    "    self.value = value\n",
    "    self.next = next\n",
    "\n",
    "class Queue:\n",
    "  \"\"\"\n",
    "  Класс, описывающий очередь.\n",
    "  \"\"\"\n",
    "\n",
    "  def __init__(self):\n",
    "    \"\"\"\n",
    "    Инициализирует экземпляр класса Queue.\n",
    "\n",
    "    Args:\n",
    "      None.\n",
    "\n",
    "    Returns:\n",
    "      None.\n",
    "    \"\"\"\n",
    "    self.head = None\n",
    "    self.tail = None\n",
    "\n",
    "  def enqueue(self, value):\n",
    "    \"\"\"\n",
    "    Добавляет элемент в конец очереди.\n",
    "\n",
    "    Args:\n",
    "      value: Значение, которое нужно добавить.\n",
    "\n",
    "    Returns:\n",
    "      None.\n",
    "    \"\"\"\n",
    "    new_node = Node(value)\n",
    "    if self.tail is None:\n",
    "      self.head = self.tail = new_node\n",
    "    else:\n",
    "      self.tail.next = new_node\n",
    "      self.tail = new_node\n",
    "\n",
    "  def dequeue(self):\n",
    "    \"\"\"\n",
    "    Извлекает элемент из начала очереди.\n",
    "\n",
    "    Args:\n",
    "      None.\n",
    "\n",
    "    Returns:\n",
    "      Значение извлеченного элемента.\n",
    "    \"\"\"\n",
    "    if self.head is None:\n",
    "      return None\n",
    "    value = self.head.value\n",
    "    self.head = self.head.next\n",
    "    if self.head is None:\n",
    "      self.tail = None\n",
    "    return value\n",
    "\n",
    "  # ... (реализация других методов)\n",
    "\n"
   ],
   "metadata": {
    "collapsed": false,
    "pycharm": {
     "name": "#%%\n"
    }
   }
  }
 ],
 "metadata": {
  "kernelspec": {
   "display_name": "Python 3",
   "language": "python",
   "name": "python3"
  },
  "language_info": {
   "codemirror_mode": {
    "name": "ipython",
    "version": 2
   },
   "file_extension": ".py",
   "mimetype": "text/x-python",
   "name": "python",
   "nbconvert_exporter": "python",
   "pygments_lexer": "ipython2",
   "version": "2.7.6"
  }
 },
 "nbformat": 4,
 "nbformat_minor": 0
}
